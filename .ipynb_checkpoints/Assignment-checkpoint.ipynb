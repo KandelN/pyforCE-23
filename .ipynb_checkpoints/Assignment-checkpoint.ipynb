{
 "cells": [
  {
   "cell_type": "markdown",
   "id": "e33579a3-bb45-496d-8c08-a1149361ea05",
   "metadata": {},
   "source": [
    "Q1. Determine the value of $i^i$ as a real number, where $i = \\sqrt{-1}$."
   ]
  },
  {
   "cell_type": "code",
   "execution_count": 2,
   "id": "46e64f0a-f03c-478c-90a9-c98e94331d11",
   "metadata": {},
   "outputs": [
    {
     "data": {
      "text/plain": [
       "(0.20787957635076193+0j)"
      ]
     },
     "execution_count": 2,
     "metadata": {},
     "output_type": "execute_result"
    }
   ],
   "source": [
    "1j**1j"
   ]
  },
  {
   "cell_type": "markdown",
   "id": "41c77106-6d42-4215-8bfa-4c16080b0e2f",
   "metadata": {},
   "source": [
    "Q2. How many times must a sheet of paper (thickness, t = 0.1 mm but otherwise\n",
    "any size required) be folded to reach the Moon (distance from Earth, d = 384 400 km)?"
   ]
  },
  {
   "cell_type": "code",
   "execution_count": 6,
   "id": "25cea86e-6d35-47f2-9af2-c9e48368e936",
   "metadata": {},
   "outputs": [
    {
     "data": {
      "text/plain": [
       "41.80574547476001"
      ]
     },
     "execution_count": 6,
     "metadata": {},
     "output_type": "execute_result"
    }
   ],
   "source": [
    "t = 0.1 #mm\n",
    "# 2**n * t = 384 400 * 10**(6)\n",
    "import numpy as np\n",
    "n = np.log2((384400 * 10**6)/t)\n",
    "n"
   ]
  },
  {
   "cell_type": "markdown",
   "id": "73df7571-d1ae-44e6-901e-9ecfc9825cc5",
   "metadata": {},
   "source": [
    "Q3. The World Geodetic System is a set of international standards for describing\n",
    "the shape of the Earth. In the latest WGS-84 revision, the Earth’s geoid is approximated to a reference ellipsoid that takes the form of an oblate spheroid with semi-major and semi-minor axes $a = 6378137.0 m$ and $c = 6356752.314245 m$ respectively.\n",
    "Use the formula for the surface area of an oblate spheroid,\n",
    "\\begin{equation*}\n",
    "    S_{obl} = 2 \\pi a^2 \\left(1 + \\frac{1 - e^2}{e} \\text{ atanh}{(e)} \\right)\n",
    "    \\text{, where } e^2 = 1 - \\frac{c^2}{a^2}\n",
    "\\end{equation*}\n",
    "to calculate the surface area of this reference ellipsoid and compare it with the surface area of the Earth assumed to be a sphere with radius $6371 km$."
   ]
  },
  {
   "cell_type": "code",
   "execution_count": null,
   "id": "0fdd6057-e686-48db-88ba-bf59bda77da5",
   "metadata": {},
   "outputs": [],
   "source": []
  },
  {
   "cell_type": "code",
   "execution_count": null,
   "id": "b42aa058-9592-4a5d-b456-b083af896747",
   "metadata": {},
   "outputs": [],
   "source": []
  },
  {
   "cell_type": "code",
   "execution_count": null,
   "id": "197dfb54-5ee4-4371-8e81-5817df4db054",
   "metadata": {},
   "outputs": [],
   "source": []
  },
  {
   "cell_type": "code",
   "execution_count": null,
   "id": "9972c647-70a0-4342-95f0-8ac13ef95071",
   "metadata": {},
   "outputs": [],
   "source": []
  }
 ],
 "metadata": {
  "kernelspec": {
   "display_name": "Python 3 (ipykernel)",
   "language": "python",
   "name": "python3"
  },
  "language_info": {
   "codemirror_mode": {
    "name": "ipython",
    "version": 3
   },
   "file_extension": ".py",
   "mimetype": "text/x-python",
   "name": "python",
   "nbconvert_exporter": "python",
   "pygments_lexer": "ipython3",
   "version": "3.11.4"
  }
 },
 "nbformat": 4,
 "nbformat_minor": 5
}
