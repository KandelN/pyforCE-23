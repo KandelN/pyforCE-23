{
 "cells": [
  {
   "cell_type": "markdown",
   "id": "369bdd3b",
   "metadata": {},
   "source": [
    "# Day 2 - Python Workshop for civil engineers: (supplementry file)"
   ]
  },
  {
   "cell_type": "markdown",
   "id": "f9f522e6-6adb-4873-a9a5-5e1399c2e9c4",
   "metadata": {
    "jp-MarkdownHeadingCollapsed": true
   },
   "source": [
    "## Function Declaration in python:\n"
   ]
  },
  {
   "cell_type": "code",
   "execution_count": 19,
   "id": "ef897115-925e-4cce-9068-800392733515",
   "metadata": {},
   "outputs": [
    {
     "data": {
      "text/plain": [
       "0.10500000000000001"
      ]
     },
     "execution_count": 19,
     "metadata": {},
     "output_type": "execute_result"
    }
   ],
   "source": [
    "# s = ut + 1/2 at2\n",
    "\n",
    "def distance(u,t,a):\n",
    "    s = u*t + 1/2* a* t**2\n",
    "    return s\n",
    "\n",
    "distance(1,0.1,1)"
   ]
  },
  {
   "cell_type": "code",
   "execution_count": 20,
   "id": "a8635d88-d9de-49d4-8363-89e3bacc8de3",
   "metadata": {},
   "outputs": [],
   "source": [
    "def distance(u,t,a):\n",
    "    \"\"\"\n",
    "    Returns distance (s) for constant accelration motion.\n",
    "    Input Parameters:\n",
    "    u = initial speed in m\n",
    "    t = time elapsed in sec\n",
    "    a = acceleration in m/s\n",
    "    Output Parameters:\n",
    "    distance in m\n",
    "    \"\"\"\n",
    "    s = u*t + 1/2 * a * t**2\n",
    "    return s\n"
   ]
  },
  {
   "cell_type": "code",
   "execution_count": 21,
   "id": "b141a41c-8161-436d-a036-23a9fa7bbf9c",
   "metadata": {},
   "outputs": [
    {
     "data": {
      "text/plain": [
       "287.5"
      ]
     },
     "execution_count": 21,
     "metadata": {},
     "output_type": "execute_result"
    }
   ],
   "source": [
    "distance(1,23,1)"
   ]
  },
  {
   "cell_type": "markdown",
   "id": "fe7975a7-34e8-4501-843a-70fa45c6bf79",
   "metadata": {
    "jp-MarkdownHeadingCollapsed": true
   },
   "source": [
    "##  While Loop in python:\n",
    "$$\\Large\n",
    "S_n = \\sum_{i=1}^n (2i^2 + i)\n",
    "$$"
   ]
  },
  {
   "cell_type": "code",
   "execution_count": 22,
   "id": "4857455d-dff8-409a-b15c-6ae6de230655",
   "metadata": {},
   "outputs": [
    {
     "name": "stdout",
     "output_type": "stream",
     "text": [
      "5950\n"
     ]
    }
   ],
   "source": [
    "# value/ variable assign.\n",
    "n = 20\n",
    "\n",
    "sum_n = 0\n",
    "i = 1\n",
    "\n",
    "while(i <= n):\n",
    "    sum_n +=  2 * i**2 + i\n",
    "    i += 1\n",
    "    \n",
    "print(sum_n)\n"
   ]
  },
  {
   "cell_type": "markdown",
   "id": "98b2367f-c353-447a-9045-0871c08b13a9",
   "metadata": {},
   "source": [
    "## Conditional in python"
   ]
  },
  {
   "cell_type": "code",
   "execution_count": 23,
   "id": "2b1eb3aa-a166-4dfe-aab3-da11136b7059",
   "metadata": {},
   "outputs": [
    {
     "name": "stdout",
     "output_type": "stream",
     "text": [
      "Matrix is invertible\n"
     ]
    }
   ],
   "source": [
    "# A program to find whether or not a matrix is invertible:\n",
    "\n",
    "import numpy as np\n",
    "\n",
    "matrixA = np.array([[1,2,3],\n",
    "                  [2,3,4],\n",
    "                  [12,34,0]]\n",
    "                 )\n",
    "det = np.linalg.det(matrixA)\n",
    "if det == 0:\n",
    "    print(\"Matrix is not invertible\")\n",
    "else:\n",
    "    print(\"Matrix is invertible\")\n"
   ]
  }
 ],
 "metadata": {
  "kernelspec": {
   "display_name": "Python 3 (ipykernel)",
   "language": "python",
   "name": "python3"
  },
  "language_info": {
   "codemirror_mode": {
    "name": "ipython",
    "version": 3
   },
   "file_extension": ".py",
   "mimetype": "text/x-python",
   "name": "python",
   "nbconvert_exporter": "python",
   "pygments_lexer": "ipython3",
   "version": "3.11.4"
  }
 },
 "nbformat": 4,
 "nbformat_minor": 5
}
