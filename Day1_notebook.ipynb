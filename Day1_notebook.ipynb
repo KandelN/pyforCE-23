{
 "cells": [
  {
   "cell_type": "markdown",
   "id": "fea5a97b",
   "metadata": {},
   "source": [
    "# Day 1 - Python Workshop for civil engineers:"
   ]
  },
  {
   "cell_type": "markdown",
   "id": "587e43d8-879d-482d-be6e-3923d5ecbf11",
   "metadata": {},
   "source": [
    "# Basics"
   ]
  },
  {
   "cell_type": "markdown",
   "id": "2ceb2b74-328d-423f-a11f-dd199291024e",
   "metadata": {},
   "source": [
    "This is the first class of this workshop.\n"
   ]
  },
  {
   "cell_type": "code",
   "execution_count": 2,
   "id": "ffb923e9-84a6-48d3-a16a-e59bb9c541eb",
   "metadata": {},
   "outputs": [
    {
     "name": "stdout",
     "output_type": "stream",
     "text": [
      "Hello World!\n"
     ]
    }
   ],
   "source": [
    "print(\"Hello World!\")"
   ]
  },
  {
   "cell_type": "code",
   "execution_count": 3,
   "id": "ceb7ee45-ed75-4ca9-916f-e007b5dcf4b8",
   "metadata": {},
   "outputs": [
    {
     "data": {
      "text/plain": [
       "610"
      ]
     },
     "execution_count": 3,
     "metadata": {},
     "output_type": "execute_result"
    }
   ],
   "source": [
    "152+458"
   ]
  },
  {
   "cell_type": "code",
   "execution_count": 4,
   "id": "3e9e052b-8782-474e-83db-a8e7d8d47dd1",
   "metadata": {},
   "outputs": [
    {
     "data": {
      "text/plain": [
       "(-6+17j)"
      ]
     },
     "execution_count": 4,
     "metadata": {},
     "output_type": "execute_result"
    }
   ],
   "source": [
    "(3+4j)*(2+3j)"
   ]
  },
  {
   "cell_type": "code",
   "execution_count": 5,
   "id": "579b1ab2-d178-4b5f-a474-d6b95f3cc1c3",
   "metadata": {},
   "outputs": [
    {
     "name": "stdout",
     "output_type": "stream",
     "text": [
      " Nelson\n"
     ]
    }
   ],
   "source": [
    "s = input()\n"
   ]
  },
  {
   "cell_type": "code",
   "execution_count": 6,
   "id": "7591e1d6-cdd3-43d0-8955-1d699aaa574e",
   "metadata": {},
   "outputs": [
    {
     "name": "stdout",
     "output_type": "stream",
     "text": [
      "Nelson\n"
     ]
    }
   ],
   "source": [
    "print(s)"
   ]
  },
  {
   "cell_type": "code",
   "execution_count": 7,
   "id": "39ff83d1-9354-4800-b8a6-c47167507a98",
   "metadata": {},
   "outputs": [
    {
     "name": "stdout",
     "output_type": "stream",
     "text": [
      " 123\n"
     ]
    }
   ],
   "source": [
    "a = input()"
   ]
  },
  {
   "cell_type": "code",
   "execution_count": 8,
   "id": "4326e5e4-c849-4396-bd3b-6d43714f5d9d",
   "metadata": {},
   "outputs": [
    {
     "name": "stdout",
     "output_type": "stream",
     "text": [
      "123\n"
     ]
    }
   ],
   "source": [
    "print(a)\n"
   ]
  },
  {
   "cell_type": "code",
   "execution_count": 9,
   "id": "577a1bac-5e35-4d66-b25c-78d5f57f3d72",
   "metadata": {},
   "outputs": [
    {
     "data": {
      "text/plain": [
       "'Nelson123'"
      ]
     },
     "execution_count": 9,
     "metadata": {},
     "output_type": "execute_result"
    }
   ],
   "source": [
    "s + a"
   ]
  },
  {
   "cell_type": "markdown",
   "id": "1fa6ee96-0b8b-4114-a944-fead7402ab3b",
   "metadata": {},
   "source": [
    "## Data Types Exploration:"
   ]
  },
  {
   "cell_type": "code",
   "execution_count": 43,
   "id": "f57b1250-e2e1-49f0-a8de-96fbc80bb1b9",
   "metadata": {},
   "outputs": [
    {
     "data": {
      "text/plain": [
       "[1, 2, 'one', y]"
      ]
     },
     "execution_count": 43,
     "metadata": {},
     "output_type": "execute_result"
    }
   ],
   "source": [
    "# Data Types:\n",
    "# list\n",
    "list1 = [1, 2, 'one', x]\n",
    "\n",
    "#tuple\n",
    "tuple1 = (1, 2, 'one', x)\n",
    "\n",
    "# How to access:\n",
    "\n",
    "list1[3] = y\n",
    "list1\n"
   ]
  },
  {
   "cell_type": "code",
   "execution_count": 48,
   "id": "a8dbefef-f89c-44bb-8abf-15ba751c6461",
   "metadata": {},
   "outputs": [],
   "source": [
    "#Dictionary\n",
    "dict1 = {'a': 1, 'b': 2, 'c':3}"
   ]
  },
  {
   "cell_type": "code",
   "execution_count": 52,
   "id": "6428395a-04a4-4969-b2da-22d0bc49c8f6",
   "metadata": {},
   "outputs": [
    {
     "data": {
      "text/plain": [
       "{'a': 1, 'b': 2, 'c': 3}"
      ]
     },
     "execution_count": 52,
     "metadata": {},
     "output_type": "execute_result"
    }
   ],
   "source": [
    "dict1"
   ]
  },
  {
   "cell_type": "code",
   "execution_count": 58,
   "id": "2345bf4d-bcdf-4316-bbc7-162dd4904cb0",
   "metadata": {},
   "outputs": [
    {
     "data": {
      "text/plain": [
       "dict['a']"
      ]
     },
     "execution_count": 58,
     "metadata": {},
     "output_type": "execute_result"
    }
   ],
   "source": [
    "dict['a']"
   ]
  },
  {
   "cell_type": "markdown",
   "id": "169337d8-11b8-4d18-a531-b930ef35fb98",
   "metadata": {},
   "source": [
    "# Example 1"
   ]
  },
  {
   "cell_type": "markdown",
   "id": "62d8a269-765c-460e-b810-6fc9f865acce",
   "metadata": {},
   "source": [
    "Q. Calculate distance(s) if a =1, u= 23, t = 12, g = 9.81."
   ]
  },
  {
   "cell_type": "code",
   "execution_count": 11,
   "id": "bea9a628-a786-46d8-8673-18a4acb50c7a",
   "metadata": {},
   "outputs": [
    {
     "name": "stdout",
     "output_type": "stream",
     "text": [
      "348.0\n"
     ]
    }
   ],
   "source": [
    "# Variable Assignment:\n",
    "a = 1\n",
    "u = 23\n",
    "t = 12\n",
    "\n",
    "# Process\n",
    "s = u*t + 1/2 * a * t**2\n",
    "\n",
    "# Ouput\n",
    "print(s)"
   ]
  },
  {
   "cell_type": "markdown",
   "id": "2433f7eb-fcf6-4602-b41a-40e847453f50",
   "metadata": {},
   "source": [
    "# Sympy"
   ]
  },
  {
   "cell_type": "code",
   "execution_count": null,
   "id": "27b3297e-de0d-4074-a78f-8c91ce0d4393",
   "metadata": {},
   "outputs": [],
   "source": [
    "# Import library\n",
    "import sympy as sp\n",
    "# sympy.function()  ########\n",
    "# sp.function()  ########\n"
   ]
  },
  {
   "cell_type": "markdown",
   "id": "5eaa5bd4-bf6a-4438-b3de-a3b9c8431ef3",
   "metadata": {},
   "source": [
    "# Example 2"
   ]
  },
  {
   "cell_type": "markdown",
   "id": "0154beb9-d689-4712-84da-7f18129c4cbb",
   "metadata": {},
   "source": [
    "Q. Solve the equation sin(x) + cos^2(x) + 1"
   ]
  },
  {
   "cell_type": "code",
   "execution_count": 20,
   "id": "bfaa13e3-968a-43a9-afd1-6c56a6fae36b",
   "metadata": {},
   "outputs": [],
   "source": [
    "# library import\n",
    "import sympy as sp\n",
    "\n",
    "#Variable assignment\n",
    "x = sp.symbols('x')\n",
    "\n",
    "#process\n",
    "#make expression\n",
    "exp1 = sp.sin(x) + (sp.cos(x) )**2 + 1\n"
   ]
  },
  {
   "cell_type": "code",
   "execution_count": 21,
   "id": "80ba25fd-722a-4a4c-b98a-dcdfa930fa60",
   "metadata": {},
   "outputs": [
    {
     "data": {
      "text/latex": [
       "$\\displaystyle \\sin{\\left(x \\right)} + \\cos^{2}{\\left(x \\right)} + 1$"
      ],
      "text/plain": [
       "sin(x) + cos(x)**2 + 1"
      ]
     },
     "execution_count": 21,
     "metadata": {},
     "output_type": "execute_result"
    }
   ],
   "source": [
    "exp1"
   ]
  },
  {
   "cell_type": "code",
   "execution_count": 26,
   "id": "95bd647b-23b2-4f39-8b04-34790f2ceef8",
   "metadata": {},
   "outputs": [
    {
     "data": {
      "text/plain": [
       "[{x: -pi/2}, {x: 2*atan(1/2 - sqrt(3)*I/2)}, {x: 2*atan(1/2 + sqrt(3)*I/2)}]"
      ]
     },
     "execution_count": 26,
     "metadata": {},
     "output_type": "execute_result"
    }
   ],
   "source": [
    "# solve the expression:\n",
    "sp.solve((exp1, 0))"
   ]
  },
  {
   "cell_type": "code",
   "execution_count": 27,
   "id": "844968b5-f8d8-44af-9eca-3ddef2ddcbd8",
   "metadata": {},
   "outputs": [
    {
     "data": {
      "text/plain": [
       "[-pi/2, 2*atan(1/2 - sqrt(3)*I/2), 2*atan(1/2 + sqrt(3)*I/2)]"
      ]
     },
     "execution_count": 27,
     "metadata": {},
     "output_type": "execute_result"
    }
   ],
   "source": [
    "# solve the expression:\n",
    "sp.solve(exp1)"
   ]
  },
  {
   "cell_type": "code",
   "execution_count": 29,
   "id": "34522839-ab6f-434b-bd2d-9b9fbba23740",
   "metadata": {},
   "outputs": [
    {
     "data": {
      "image/png": "[encoded data removed]",
      "text/plain": [
       "<Figure size 640x480 with 1 Axes>"
      ]
     },
     "metadata": {},
     "output_type": "display_data"
    },
    {
     "data": {
      "text/plain": [
       "<sympy.plotting.plot.Plot at 0x26d11bc6110>"
      ]
     },
     "execution_count": 29,
     "metadata": {},
     "output_type": "execute_result"
    }
   ],
   "source": [
    "# plot function/exp:\n",
    "sp.plot(exp1)"
   ]
  },
  {
   "cell_type": "markdown",
   "id": "d7391034-4411-47a6-b406-4e46b68e82a2",
   "metadata": {},
   "source": [
    "# Example 3"
   ]
  },
  {
   "cell_type": "markdown",
   "id": "eae7af08-3575-4260-a16d-b97e60c43874",
   "metadata": {},
   "source": [
    "Q. Solve the following system of equation:\n",
    "\n",
    "3x + 4y^2 - 1 =0; <br>\n",
    "2x + 12y - 15 = 0"
   ]
  },
  {
   "cell_type": "code",
   "execution_count": 36,
   "id": "1073b1d8-0dee-4d04-bf06-b38351ec3756",
   "metadata": {},
   "outputs": [],
   "source": [
    "#import lib\n",
    "# DOne\n",
    "\n",
    "\n",
    "#Assign variables:\n",
    "x = sp.symbols('x')\n",
    "y = sp.symbols('y')\n",
    "\n",
    "#2nd technique\n",
    "x, y = sp.symbols('x y')\n"
   ]
  },
  {
   "cell_type": "code",
   "execution_count": 54,
   "id": "10355758-d29f-4fa0-bcb5-bfb31694e02b",
   "metadata": {},
   "outputs": [],
   "source": [
    "exp2 = 3*x + 4 *y**2 -1\n",
    "exp3 = 2*x + 12*y - 15\n",
    "\n",
    "ans = sp.solve((exp2,exp3))"
   ]
  },
  {
   "cell_type": "code",
   "execution_count": 55,
   "id": "0812694d-78ed-4c8c-a10f-e0ad0438825a",
   "metadata": {},
   "outputs": [
    {
     "data": {
      "text/plain": [
       "[{x: -6 - 3*sqrt(5)*I/2, y: 9/4 + sqrt(5)*I/4},\n",
       " {x: -6 + 3*sqrt(5)*I/2, y: 9/4 - sqrt(5)*I/4}]"
      ]
     },
     "execution_count": 55,
     "metadata": {},
     "output_type": "execute_result"
    }
   ],
   "source": [
    "ans"
   ]
  },
  {
   "cell_type": "code",
   "execution_count": 62,
   "id": "07c10cba-92df-4016-ab64-391bd367cc06",
   "metadata": {},
   "outputs": [],
   "source": [
    "a1 = ans[0]\n",
    "a1\n",
    "a2 = ans[1]"
   ]
  },
  {
   "cell_type": "code",
   "execution_count": 69,
   "id": "8dee992f-5be6-44ce-9143-07b8d3f103b7",
   "metadata": {},
   "outputs": [
    {
     "name": "stdout",
     "output_type": "stream",
     "text": [
      "Values of x:\n"
     ]
    },
    {
     "data": {
      "text/latex": [
       "$\\displaystyle -6 - \\frac{3 \\sqrt{5} i}{2}$"
      ],
      "text/plain": [
       "-6 - 3*sqrt(5)*I/2"
      ]
     },
     "metadata": {},
     "output_type": "display_data"
    },
    {
     "data": {
      "text/latex": [
       "$\\displaystyle -6 + \\frac{3 \\sqrt{5} i}{2}$"
      ],
      "text/plain": [
       "-6 + 3*sqrt(5)*I/2"
      ]
     },
     "metadata": {},
     "output_type": "display_data"
    },
    {
     "name": "stdout",
     "output_type": "stream",
     "text": [
      "Values of y:\n"
     ]
    },
    {
     "data": {
      "text/latex": [
       "$\\displaystyle \\frac{9}{4} + \\frac{\\sqrt{5} i}{4}$"
      ],
      "text/plain": [
       "9/4 + sqrt(5)*I/4"
      ]
     },
     "metadata": {},
     "output_type": "display_data"
    },
    {
     "data": {
      "text/latex": [
       "$\\displaystyle \\frac{9}{4} - \\frac{\\sqrt{5} i}{4}$"
      ],
      "text/plain": [
       "9/4 - sqrt(5)*I/4"
      ]
     },
     "metadata": {},
     "output_type": "display_data"
    }
   ],
   "source": [
    "print(\"Values of x:\")\n",
    "display(a1[x])\n",
    "display(a2[x])\n",
    "\n",
    "print(\"Values of y:\")\n",
    "display(ans[0][y])\n",
    "display(ans[1][y])\n"
   ]
  },
  {
   "cell_type": "markdown",
   "id": "1fafbd7b-4f98-4d2a-9f74-ecddcd62ef78",
   "metadata": {},
   "source": [
    "# Example 4:"
   ]
  },
  {
   "attachments": {},
   "cell_type": "markdown",
   "id": "27c67d58-95c7-4176-ab06-559dc0833894",
   "metadata": {},
   "source": [
    "Find the centriod of given parabolic figure:<br>\n",
    "![image.png](https://encrypted-tbn0.gstatic.com/images?q=tbn:ANd9GcRsHMk29SWgld8ndthVJibsdrzW_0kY2Bjb2PfSenA-_2gWgQtsdcAE2wgklGFmBoaYNyc&usqp=CAU)"
   ]
  },
  {
   "cell_type": "code",
   "execution_count": null,
   "id": "9a02efee-fbc6-400e-a82a-4b010a7b5b7e",
   "metadata": {},
   "outputs": [],
   "source": []
  },
  {
   "cell_type": "code",
   "execution_count": 70,
   "id": "377e947f-a019-4a7e-a9ba-f415a0d657a2",
   "metadata": {},
   "outputs": [],
   "source": [
    "# assign variables / define symbols\n",
    "x, y, k = sp.symbols('x, y, k')\n",
    "a, b = sp.symbols('a, b', constant = True)\n",
    "\n",
    "# make exp\n",
    "# evaluate\n",
    "# output"
   ]
  },
  {
   "cell_type": "code",
   "execution_count": 75,
   "id": "61c48211-6ad9-4670-ae4d-50a7679965b4",
   "metadata": {},
   "outputs": [
    {
     "data": {
      "text/latex": [
       "$\\displaystyle \\frac{b}{a^{2}}$"
      ],
      "text/plain": [
       "b/a**2"
      ]
     },
     "execution_count": 75,
     "metadata": {},
     "output_type": "execute_result"
    }
   ],
   "source": [
    "# find k\n",
    "#  y = kx**2\n",
    "k = y/ x**2\n",
    "# Substitute x,y = a,b\n",
    "k_val = k.subs([(x, a), (y, b) ])\n",
    "k_val"
   ]
  },
  {
   "cell_type": "code",
   "execution_count": 76,
   "id": "c4062b5e-1c27-46f3-a26e-64ed0d306802",
   "metadata": {},
   "outputs": [
    {
     "data": {
      "text/latex": [
       "$\\displaystyle \\frac{b x^{2}}{a^{2}}$"
      ],
      "text/plain": [
       "b*x**2/a**2"
      ]
     },
     "execution_count": 76,
     "metadata": {},
     "output_type": "execute_result"
    }
   ],
   "source": [
    "#  integrate  --    kx2 dx\n",
    "\n",
    "itr1 = k_val * x**2\n",
    "itr1"
   ]
  },
  {
   "cell_type": "code",
   "execution_count": 78,
   "id": "92e15ea0-d7b6-493b-922c-afce6a2768e7",
   "metadata": {},
   "outputs": [
    {
     "data": {
      "text/latex": [
       "$\\displaystyle \\int\\limits_{0}^{a} \\frac{b x^{2}}{a^{2}}\\, dx$"
      ],
      "text/plain": [
       "Integral(b*x**2/a**2, (x, 0, a))"
      ]
     },
     "execution_count": 78,
     "metadata": {},
     "output_type": "execute_result"
    }
   ],
   "source": [
    "area = sp.Integral(itr1, (x, 0, a) ) \n",
    "area\n"
   ]
  },
  {
   "cell_type": "code",
   "execution_count": 80,
   "id": "45269a2d-564e-4761-a95d-76c866cb3fcf",
   "metadata": {},
   "outputs": [
    {
     "data": {
      "text/latex": [
       "$\\displaystyle \\frac{a b}{3}$"
      ],
      "text/plain": [
       "a*b/3"
      ]
     },
     "execution_count": 80,
     "metadata": {},
     "output_type": "execute_result"
    }
   ],
   "source": [
    "A = area.doit()\n",
    "A"
   ]
  },
  {
   "cell_type": "code",
   "execution_count": 87,
   "id": "bc387d28-64f5-4b6a-98d4-5161f4e1200b",
   "metadata": {},
   "outputs": [
    {
     "data": {
      "text/latex": [
       "$\\displaystyle \\int\\limits_{0}^{a} \\frac{b x^{3}}{a^{2}}\\, dx$"
      ],
      "text/plain": [
       "Integral(b*x**3/a**2, (x, 0, a))"
      ]
     },
     "execution_count": 87,
     "metadata": {},
     "output_type": "execute_result"
    }
   ],
   "source": [
    "itr2 = x* itr1\n",
    "upper = sp.Integral(itr2, (x, 0, a) )\n",
    "upper"
   ]
  },
  {
   "cell_type": "code",
   "execution_count": 94,
   "id": "eb591cc6-707c-4274-847a-3a729686a143",
   "metadata": {},
   "outputs": [
    {
     "name": "stdout",
     "output_type": "stream",
     "text": [
      "x_avg:\n"
     ]
    },
    {
     "data": {
      "text/latex": [
       "$\\displaystyle \\frac{3 a}{4}$"
      ],
      "text/plain": [
       "3*a/4"
      ]
     },
     "execution_count": 94,
     "metadata": {},
     "output_type": "execute_result"
    }
   ],
   "source": [
    "#compute x_bar\n",
    "\n",
    "x_bar = upper.doit() / A\n",
    "print ('x_avg:') \n",
    "x_bar"
   ]
  },
  {
   "cell_type": "code",
   "execution_count": null,
   "id": "d13308e0-6bd3-4277-80ac-ea6d3946068c",
   "metadata": {},
   "outputs": [],
   "source": []
  },
  {
   "cell_type": "markdown",
   "id": "616c1899-b99d-40ab-95e2-808a14d67c2e",
   "metadata": {},
   "source": [
    "Please complete this problem to find y coordinate of centriod too."
   ]
  },
  {
   "cell_type": "code",
   "execution_count": null,
   "id": "e1546bfe-951c-4b4a-ade7-f830d1239dee",
   "metadata": {},
   "outputs": [],
   "source": []
  }
 ],
 "metadata": {
  "kernelspec": {
   "display_name": "Python 3 (ipykernel)",
   "language": "python",
   "name": "python3"
  },
  "language_info": {
   "codemirror_mode": {
    "name": "ipython",
    "version": 3
   },
   "file_extension": ".py",
   "mimetype": "text/x-python",
   "name": "python",
   "nbconvert_exporter": "python",
   "pygments_lexer": "ipython3",
   "version": "3.11.4"
  }
 },
 "nbformat": 4,
 "nbformat_minor": 5
}
